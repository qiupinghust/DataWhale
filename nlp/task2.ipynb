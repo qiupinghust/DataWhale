{
 "cells": [
  {
   "cell_type": "markdown",
   "metadata": {},
   "source": [
    "精确模式：试图将句子最精确地切开，适合文本分析；\n",
    "全模式：把句子中所有的可以成词的词语都扫描出来, 速度非常快，但是不能解决歧义；\n",
    "搜索引擎模式：在精确模式的基础上，对长词再次切分，提高召回率，适合用于搜索引擎分词。\n",
    "\n",
    "jieba.cut方法接受三个输入参数:\n",
    "\n",
    "需要分词的字符串\n",
    "cut_all 参数用来控制是否采用全模式\n",
    "HMM 参数用来控制是否使用 HMM 模型\n",
    "\n",
    "jieba.cut_for_search 方法接受两个参数\n",
    "需要分词的字符串\n",
    "是否使用 HMM 模型。\n",
    "该方法适合用于搜索引擎构建倒排索引的分词，粒度比较细\n",
    "\n",
    "jieba.lcut以及jieba.lcut_for_search直接返回 list\n"
   ]
  },
  {
   "cell_type": "code",
   "execution_count": 5,
   "metadata": {
    "ExecuteTime": {
     "end_time": "2019-05-14T01:55:58.123048Z",
     "start_time": "2019-05-14T01:55:58.115028Z"
    }
   },
   "outputs": [
    {
     "name": "stdout",
     "output_type": "stream",
     "text": [
      "<generator object Tokenizer.cut at 0x000001F45EFADC78>\n",
      "Full Mode: 我/ 在/ 学习/ 自然/ 自然语言/ 语言/ 处理\n",
      "Default Mode: 我/ 在/ 学习/ 自然语言/ 处理\n",
      "他, 毕业, 于, 上海交通大学, ，, 在, 百度, 深度, 学习, 研究院, 进行, 研究\n",
      "小明, 硕士, 毕业, 于, 中国, 科学, 学院, 科学院, 中国科学院, 计算, 计算所, ，, 后, 在, 哈佛, 大学, 哈佛大学, 深造\n",
      "['小明', '硕士', '毕业', '于', '中国科学院', '计算所', '，', '后', '在', '哈佛大学', '深造']\n",
      "小明 硕士 毕业 于 中国科学院 计算所 ， 后 在 哈佛大学 深造\n",
      "小明 硕士 毕业 于 中国 科学 学院 科学院 中国科学院 计算 计算所 ， 后 在 哈佛 大学 哈佛大学 深造\n"
     ]
    }
   ],
   "source": [
    "import jieba\n",
    "\n",
    "seg_list = jieba.cut(\"我在学习自然语言处理\", cut_all=True)\n",
    "print(seg_list)\n",
    "print(\"Full Mode: \" + \"/ \".join(seg_list))  # 全模式\n",
    "\n",
    "seg_list = jieba.cut(\"我在学习自然语言处理\", cut_all=False)\n",
    "print(\"Default Mode: \" + \"/ \".join(seg_list))  # 精确模式\n",
    "\n",
    "seg_list = jieba.cut(\"他毕业于上海交通大学，在百度深度学习研究院进行研究\")  # 默认是精确模式\n",
    "print(\", \".join(seg_list))\n",
    "\n",
    "seg_list = jieba.cut_for_search(\"小明硕士毕业于中国科学院计算所，后在哈佛大学深造\")  # 搜索引擎模式\n",
    "print(\", \".join(seg_list))\n",
    "\n",
    "result_lcut = jieba.lcut(\"小明硕士毕业于中国科学院计算所，后在哈佛大学深造\")\n",
    "print(result_lcut)\n",
    "print(\" \".join(result_lcut))\n",
    "print( \" \".join(jieba.lcut_for_search(\"小明硕士毕业于中国科学院计算所，后在哈佛大学深造\")))"
   ]
  },
  {
   "cell_type": "code",
   "execution_count": 6,
   "metadata": {
    "ExecuteTime": {
     "end_time": "2019-05-14T02:15:20.771066Z",
     "start_time": "2019-05-14T02:15:20.764047Z"
    }
   },
   "outputs": [],
   "source": [
    "# 去停用词以及词频统计\n",
    "import pandas as pd\n",
    "\n",
    "segs = []\n",
    "for word in seg_list:\n",
    "    if word not in stop_words:\n",
    "        segs.append({'word': word, 'count': 1})\n",
    "df_segs = pd.DataFrame(segs)        \n",
    "df_words = df_segs.groupby('word')['count'].sum()"
   ]
  },
  {
   "cell_type": "markdown",
   "metadata": {},
   "source": [
    "\n",
    "- unigram：上下文无关模型，只考虑词本身的频率，而不考虑上下文环境。\n",
    "  - P(x1,x2,x3,x4,x5,x6,x7,x8,x9,x10)  =P(x1)P(x2)P(x3)P(x4)P(x5)P(x6)P(x7)P(x8)P(x9)P(x10) \n",
    "- bigram：考虑一个词语对上一个词语的依赖关系\n",
    "  - P(x1,x2,x3,x4,x5,x6,x7,x8,x9,x10)  =P(x1)P(x2|x1)P(x3|x2)P(x4|x3)..P(x10|x9) \n",
    "- trigram：把依赖词长度再拉长一点，考虑一个词对前两个词的依赖关系，就叫做三元语法\n",
    "  - P(x1,x2,x3,x4,x5,x6,x7,x8,x9,x10)   =P(x1)P(x2|x1)P(x3|x1,x2)P(x4|x2,x3)×...×P(x10|x8,x9)\n"
   ]
  },
  {
   "cell_type": "code",
   "execution_count": null,
   "metadata": {},
   "outputs": [],
   "source": []
  }
 ],
 "metadata": {
  "kernelspec": {
   "display_name": "Python 3",
   "language": "python",
   "name": "python3"
  },
  "varInspector": {
   "cols": {
    "lenName": 16,
    "lenType": 16,
    "lenVar": 40
   },
   "kernels_config": {
    "python": {
     "delete_cmd_postfix": "",
     "delete_cmd_prefix": "del ",
     "library": "var_list.py",
     "varRefreshCmd": "print(var_dic_list())"
    },
    "r": {
     "delete_cmd_postfix": ") ",
     "delete_cmd_prefix": "rm(",
     "library": "var_list.r",
     "varRefreshCmd": "cat(var_dic_list()) "
    }
   },
   "types_to_exclude": [
    "module",
    "function",
    "builtin_function_or_method",
    "instance",
    "_Feature"
   ],
   "window_display": false
  }
 },
 "nbformat": 4,
 "nbformat_minor": 2
}
